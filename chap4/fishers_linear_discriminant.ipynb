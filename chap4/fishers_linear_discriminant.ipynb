{
 "cells": [
  {
   "cell_type": "code",
   "execution_count": 23,
   "metadata": {
    "collapsed": true
   },
   "outputs": [],
   "source": [
    "from fishers_linear_discriminant import *\n",
    "%matplotlib inline"
   ]
  },
  {
   "cell_type": "code",
   "execution_count": 24,
   "metadata": {
    "collapsed": true
   },
   "outputs": [],
   "source": [
    "# クラス数\n",
    "maxcls = 2\n",
    "# 各クラスのデータの平均・分散\n",
    "mean_1 = np.array([0, 0])\n",
    "mean_2 = np.array([0, 8])\n",
    "cov = np.array([[5, -1.6], [-1.6, 5]])\n",
    "# Dataクラスを用いてデータをN個生成\n",
    "data_1 = Data(mean=mean_1, cov=cov, N=100, cls=1, maxcls=maxcls)\n",
    "data_2 = Data(mean=mean_2, cov=cov, N=100, cls=2, maxcls=maxcls)"
   ]
  },
  {
   "cell_type": "code",
   "execution_count": 25,
   "metadata": {
    "collapsed": true,
    "scrolled": true
   },
   "outputs": [],
   "source": [
    "data_1.m = calcM(data_1.x_vec)\n",
    "data_2.m = calcM(data_2.x_vec)\n",
    "\n",
    "S_b = calcS_b(m1=data_1.m, m2=data_2.m)\n",
    "S_w = calcS_w(data_list=[data_1, data_2])\n",
    "w = calcW(S_w=S_w, m1=data_1.m, m2=data_2.m) * 1000"
   ]
  },
  {
   "cell_type": "code",
   "execution_count": 26,
   "metadata": {
    "collapsed": true
   },
   "outputs": [],
   "source": [
    "from ipywidgets import interact"
   ]
  },
  {
   "cell_type": "code",
   "execution_count": 34,
   "metadata": {
    "scrolled": false
   },
   "outputs": [
    {
     "data": {
      "application/vnd.jupyter.widget-view+json": {
       "model_id": "2dc996cba83542be98004479dcc6e510"
      }
     },
     "metadata": {},
     "output_type": "display_data"
    }
   ],
   "source": [
    "@interact(angle=(0, 180))\n",
    "def interactive_plot(angle):\n",
    "    # データ点プロット\n",
    "    fig, axes = plt.subplots(ncols=2, nrows=1, figsize=(10, 4))\n",
    "\n",
    "    data_1.scatter('red', '^', ax=axes[0])\n",
    "    data_2.scatter('blue', 's', ax=axes[0])\n",
    "\n",
    "    axes[0].scatter(x=data_1.m[0], y=data_1.m[1], color='black', marker='x')\n",
    "    axes[0].scatter(x=data_2.m[0], y=data_2.m[1], color='black', marker='x')\n",
    "    \n",
    "    w = calcW(S_w=S_w, m1=data_1.m, m2=data_2.m) * 1000\n",
    "    rotate = np.array([[np.cos(np.deg2rad(angle)), -np.sin(np.deg2rad(angle))], [np.sin(np.deg2rad(angle)), np.cos(np.deg2rad(angle))]])\n",
    "    w = np.dot(rotate, w)\n",
    "    # 射影軸方向 w の直線のプロット\n",
    "    plotW(w, -5, axes[0])\n",
    "    axes[0].set_xlim((-10, 10))\n",
    "    axes[0].set_ylim((-10, 20))\n",
    "    axes[0].set_title('2-Class Fisher\\'s linear discriminant')\n",
    "\n",
    "    # 1次元に射影 (4.20)式\n",
    "    y1 = np.dot(w.T, data_1.x_vec.T)\n",
    "    y1 = np.reshape(y1, -1)\n",
    "    y2 = np.dot(w.T, data_2.x_vec.T)\n",
    "    y2 = np.reshape(y2, -1)\n",
    "    \n",
    "    # 射影した後のヒストグラムのプロット\n",
    "    axes[1].hist(x=y1, bins=15, alpha=0.5, color='red')\n",
    "    axes[1].hist(x=y2, bins=15, alpha=0.5, color='blue')\n",
    "    \n",
    "    print(w)\n",
    "    plt.show()"
   ]
  },
  {
   "cell_type": "code",
   "execution_count": null,
   "metadata": {
    "collapsed": true
   },
   "outputs": [],
   "source": []
  },
  {
   "cell_type": "code",
   "execution_count": null,
   "metadata": {
    "collapsed": true
   },
   "outputs": [],
   "source": []
  }
 ],
 "metadata": {
  "kernelspec": {
   "display_name": "Python 3",
   "language": "python",
   "name": "python3"
  },
  "language_info": {
   "codemirror_mode": {
    "name": "ipython",
    "version": 3
   },
   "file_extension": ".py",
   "mimetype": "text/x-python",
   "name": "python",
   "nbconvert_exporter": "python",
   "pygments_lexer": "ipython3",
   "version": "3.6.1"
  }
 },
 "nbformat": 4,
 "nbformat_minor": 2
}
